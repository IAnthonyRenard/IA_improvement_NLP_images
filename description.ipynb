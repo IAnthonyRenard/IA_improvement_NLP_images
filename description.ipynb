{
 "cells": [
  {
   "cell_type": "markdown",
   "id": "ac6c1b25-535a-4c0e-a0c4-50cbb23bcbde",
   "metadata": {
    "extensions": {
     "jupyter_dashboards": {
      "activeView": "grid_default",
      "views": {
       "grid_default": {
        "col": null,
        "height": 2,
        "hidden": true,
        "locked": true,
        "row": null,
        "width": 2
       }
      }
     }
    },
    "jp-MarkdownHeadingCollapsed": true,
    "tags": []
   },
   "source": [
    "# Projet 6 : Améliorez le produit IA de votre start-up\n",
    "\n",
    "\n",
    "<center><img alt=\"aliment\" src=\"images/ia_repas.png\" height=500 width=500/></center>\n"
   ]
  },
  {
   "cell_type": "markdown",
   "id": "dacdd4d4-78d7-4e58-816a-3726ddec9547",
   "metadata": {
    "jp-MarkdownHeadingCollapsed": true,
    "tags": []
   },
   "source": [
    "# 1. INTRODUCTION\n",
    "## Contexte\n",
    "\n",
    "Contexte : Avis Restau est une plateforme permettant de mettre en relation des clients et des restaurants. Elle permet aux clients de poster leurs avis, photos et des notes sur les restaurants qu’ils fréquentent.\n",
    "\n",
    "<center><img alt=\"avis_resto\" src=\"images/avis_resto.png\"/></center>\n",
    "    \n",
    "## Objectifs \n",
    "1. Détecter les sujets d’insatisfaction présents dans les commentaires postés sur la plateforme.<br>\n",
    "2. Labelliser automatiquement les photos postées sur la plateforme."
   ]
  },
  {
   "cell_type": "markdown",
   "id": "5ca584e7-2cc9-4de8-b80a-7eb950ef0bb2",
   "metadata": {
    "extensions": {
     "jupyter_dashboards": {
      "activeView": "grid_default",
      "views": {
       "grid_default": {
        "col": null,
        "height": 2,
        "hidden": true,
        "locked": true,
        "row": null,
        "width": 2
       }
      }
     }
    },
    "tags": []
   },
   "source": [
    "# 2. Démarche méthodologique\n",
    "\n",
    "Dans un premier temps, je vais <a href=\"Renard_Anthony_2_notebook_022023.ipynb#C313\">charger</a> les fichiers sources qui seront notre point d'entrée (Texte : 2 dataframes au format JSON + via API YELP; images : le package IMAGE fourni + via API YELP). Après un rassemblement/agrégation des données, je ferai un **inventaire** et un **nettoyage** des jeux de données afin de récupérer un dataset \"propre\" pour l'analyse des données. Finalement, je ferai la détection et l'analyse des sujets d'insatisfaction via 3 traitements des données textuelles et pour finir je ferai une labellisation automatique des photos afin d'identifier les photos relatives à la nourriture, au décor dans le restaurant ou à l’extérieur du restaurant\n"
   ]
  },
  {
   "cell_type": "markdown",
   "id": "5dd5fd0e-19d1-44ec-97b1-0d940e76feb6",
   "metadata": {},
   "source": [
    "<center><img alt=\"demarche\" src=\"images/demarche.png\"/></center>"
   ]
  },
  {
   "cell_type": "markdown",
   "id": "17226077-1517-43d9-b1ab-432602828df1",
   "metadata": {
    "extensions": {
     "jupyter_dashboards": {
      "activeView": "grid_default",
      "views": {
       "grid_default": {
        "col": null,
        "height": 2,
        "hidden": true,
        "locked": true,
        "row": null,
        "width": 2
       }
      }
     }
    },
    "tags": []
   },
   "source": [
    "# 3. Exploration des données"
   ]
  },
  {
   "cell_type": "markdown",
   "id": "9aaec49f-6ea7-4190-b923-8f6b4800eac9",
   "metadata": {
    "tags": []
   },
   "source": [
    "## <a href=\"Renard_Anthony_2_notebook_022023.ipynb#C31\">3.1 Chargement<a>"
   ]
  },
  {
   "cell_type": "markdown",
   "id": "edefb6cf-1fff-47bd-81ca-8ddb39478ff9",
   "metadata": {},
   "source": [
    "Chargement des librairies et des fonctions utiles. "
   ]
  },
  {
   "cell_type": "markdown",
   "id": "ca439f4f-5edf-40a3-a4e4-30e44dc2eb7c",
   "metadata": {},
   "source": [
    "### Les données textuelles"
   ]
  },
  {
   "cell_type": "markdown",
   "id": "89063cdb-0f36-4ffd-a4d3-e16f10b6bd21",
   "metadata": {},
   "source": [
    "Chargement des données fournies par YELP via les fichiers JSON, des informations pertinentes via l'API YELP\n",
    "\n",
    "<center><img alt=\"avis_resto\" src=\"images/chargement.png\"/></center>\n",
    "    \n"
   ]
  },
  {
   "cell_type": "markdown",
   "id": "f6e9c8db-d8bc-4cd6-992a-2c87999400ad",
   "metadata": {},
   "source": [
    "Remarque : seulement 2/5 fichier JSON ont étés utilisés : ce sont les 2 fichiers contenant les informations nécessaires pour traiter notre problématique."
   ]
  },
  {
   "cell_type": "markdown",
   "id": "0a890b0e-0576-49f1-b13a-bf4288375d21",
   "metadata": {},
   "source": [
    "Afin de récupérer les informations via l'API, j'ai créé une clé sur le site YELP afin d'avoir une autorisation d'accès à la base de données. Ensuite j'ai formulé une requête pour récupérer les noms des restaurants, les avis textuels et les notes associées. Attention : en utilisateur \"lambda\", je ne pouvais récupérer par requête que l'information de 50 restaurants et 3 extraits d'avis maximum par restaurant. J'ai donc fait au total 4 requêtes (via 4 fonctions) pour récupérer les avis/notes : 600 avis pour 200 restaurants.\n",
    "Un fichier CSV a été crée pour stocker les informations récupérées via l'API YELP (utilisation de GRAPH GL) : ce fichier est nommé : <a href=\"Renard_Anthony_1_csv_022023.csv#C31\">Renard_Anthony_1_csv_022023.csv<a>"
   ]
  },
  {
   "cell_type": "markdown",
   "id": "bcf0c3b0-4fc3-46e3-bac3-901c05f9626b",
   "metadata": {},
   "source": [
    "### Les images"
   ]
  },
  {
   "cell_type": "markdown",
   "id": "216a9bba-f698-48bf-9ae3-317bb98fb15a",
   "metadata": {},
   "source": [
    "Chargement de la dataframe au format JSON et des 200098 images (qui me permet de déduire une liste)\n",
    "\n",
    "<center><img alt=\"chargement\" src=\"images/chargement2.png\"/></center>"
   ]
  },
  {
   "cell_type": "markdown",
   "id": "96dd54ea-31f7-4477-b95e-7be6d65f531c",
   "metadata": {
    "extensions": {
     "jupyter_dashboards": {
      "activeView": "grid_default",
      "views": {
       "grid_default": {
        "col": null,
        "height": 2,
        "hidden": true,
        "locked": true,
        "row": null,
        "width": 2
       }
      }
     }
    },
    "tags": []
   },
   "source": [
    "## 3.2 Présentation de la structure"
   ]
  },
  {
   "cell_type": "markdown",
   "id": "28a08174-bd20-45e2-a430-0a0613d7b028",
   "metadata": {
    "extensions": {
     "jupyter_dashboards": {
      "activeView": "grid_default",
      "views": {
       "grid_default": {
        "col": null,
        "height": 2,
        "hidden": true,
        "locked": true,
        "row": null,
        "width": 2
       }
      }
     }
    },
    "tags": []
   },
   "source": [
    "###  <a href=\"Renard_Anthony_2_notebook_022023#C321\">3.2.1 Texte : nombre de lignes et de colonnes et types<a>"
   ]
  },
  {
   "cell_type": "markdown",
   "id": "1ef05112-1329-4a52-80c9-3e60934125d4",
   "metadata": {
    "extensions": {
     "jupyter_dashboards": {
      "activeView": "grid_default",
      "views": {
       "grid_default": {
        "col": null,
        "height": 2,
        "hidden": true,
        "locked": true,
        "row": null,
        "width": 2
       }
      }
     }
    },
    "jp-MarkdownHeadingCollapsed": true,
    "tags": []
   },
   "source": [
    "Nous avons en notre possession 9 dataframes. Voici leur configuration après leur <a href=\"Renard_Anthony_2_notebook_022023.ipynb#C313\">chargement<a> : <br> \n",
    "\n",
    "\n",
    "<table>\n",
    "      <tr>\n",
    "        <th><center>N°</center></th>\n",
    "        <th><center>Nom</center></th>\n",
    "        <th><center>Nombre de lignes</center></th>\n",
    "        <th><center>Nombre de colonnes</center></th>\n",
    "        <th><center>Type float64</center></th>\n",
    "        <th><center>Type int64</center></th>\n",
    "        <th><center>Type objet</center></th>\n",
    "        <th><center>Type datetime</center></th>\n",
    "      </tr>\n",
    "      <tr>\n",
    "        <td><center>1</center></td>\n",
    "        <td><center>df_business</center></td>\n",
    "        <td><center>150346</center></td>\n",
    "        <td><center>14</center></td>\n",
    "        <td><center>3</center></td>\n",
    "        <td><center>2</center></td>\n",
    "        <td><center>9</center></td>\n",
    "        <td><center>0</center></td>\n",
    "      </tr>\n",
    "       <tr>\n",
    "        <td><center>2</center></td>\n",
    "        <td><center>df_review</center></td>\n",
    "        <td><center>X</center></td>\n",
    "        <td><center>9</center></td>\n",
    "        <td><center>0</center></td>\n",
    "        <td><center>4</center></td>\n",
    "        <td><center>4</center></td>\n",
    "        <td><center>1</center></td>\n",
    "      </tr>\n",
    "       <tr>\n",
    "        <td><center>3</center></td>\n",
    "        <td><center>df_final_API</center></td>\n",
    "        <td><center>600</center></td>\n",
    "        <td><center>3</center></td>\n",
    "        <td><center>0</center></td>\n",
    "        <td><center>0</center></td>\n",
    "        <td><center>3</center></td>\n",
    "        <td><center>0</center></td>\n",
    "      </tr>\n",
    "</table><br>\n"
   ]
  },
  {
   "cell_type": "markdown",
   "id": "c471fd9b-d6f2-492d-a34e-79d553c9c6c6",
   "metadata": {},
   "source": [
    "Remarque : df_review est chargée avec DASK pour palier à sa taille importante >3Go : un nombre de lignes devra être choisie pour figer la DataFrame en mémoire. Ce choix sera fait stratégiquement dans la partie \"Nettoyage\"."
   ]
  },
  {
   "cell_type": "markdown",
   "id": "1618baea-bd9e-4e89-ba88-4f4eb68a301b",
   "metadata": {},
   "source": [
    "###  <a href=\"Renard_Anthony_2_notebook_022023.ipynb#C322\">3.2.2 Images : nombre de lignes et de colonnes et types<a>"
   ]
  },
  {
   "cell_type": "markdown",
   "id": "149dbfe0-bec3-46bd-aec8-6b3817b59e43",
   "metadata": {},
   "source": [
    "Nous avons en notre possession 200098 images ainsi qu'un jeu de données donnant des informations complémentaires sur ces photos :\n",
    "\n",
    "<table>\n",
    "      <tr>\n",
    "        <th><center>N°</center></th>\n",
    "        <th><center>Nom</center></th>\n",
    "        <th><center>Nombre de lignes</center></th>\n",
    "        <th><center>Nombre de colonnes</center></th>\n",
    "        <th><center>Type objet</center></th>\n",
    "      </tr>\n",
    "      <tr>\n",
    "        <td><center>1</center></td>\n",
    "        <td><center>df_photos</center></td>\n",
    "        <td><center>200100</center></td>\n",
    "        <td><center>4</center></td>\n",
    "        <td><center>4</center></td>\n",
    "      </tr>\n",
    "      <tr>\n",
    "        <td><center>2</center></td>\n",
    "        <td><center>list images</center></td>\n",
    "        <td><center>200098 noms d'images</center></td>\n",
    "        <td><center>N/A</center></td>\n",
    "        <td><center>N/A</center></td>\n",
    "      </tr>\n",
    "</table><br>"
   ]
  },
  {
   "cell_type": "markdown",
   "id": "e9ac4f5a-d8ed-4e7f-b218-cb26092a960e",
   "metadata": {},
   "source": [
    "Ce jeu de données permettra de préciser les informations des 200098 photos."
   ]
  },
  {
   "cell_type": "markdown",
   "id": "83dc842d-a364-424b-984d-0097a24bccfa",
   "metadata": {
    "tags": []
   },
   "source": [
    "## 3.3 Nettoyage"
   ]
  },
  {
   "cell_type": "markdown",
   "id": "ce9b81fd-e88a-4204-b273-e1478c6690c1",
   "metadata": {
    "tags": []
   },
   "source": [
    "### <a href=\"Renard_Anthony_2_notebook_022023.ipynb#C331\"> 3.3.1 Texte<a>"
   ]
  },
  {
   "cell_type": "markdown",
   "id": "2ddba41c-2965-4822-955d-e80c68a0ac6b",
   "metadata": {
    "tags": []
   },
   "source": [
    "#### <a href=\"Renard_Anthony_2_notebook_022023.ipynb#C3311\"> 3.3.1.1 Sélection des lignes et des colonnes d'un point de vue \"métier\"<a>"
   ]
  },
  {
   "cell_type": "markdown",
   "id": "3acc14f0-81bf-4701-a786-20751518e3af",
   "metadata": {},
   "source": [
    "La problématique étant la suivante : \"détecter les sujets d’insatisfactions de restaurants\", on va sélectionner les colonnes pertinentes répondant à notre problématique. On va donc ne garder que les colonnes : \"catégorie\", \"notation\" et \"avis\". Concernant les notations, nous allons ne garder que les notes inférieurs ou égales à 2/5 afin de ne récupérer que les retours des clients insatisfaits. Voici le statut des dataframes après ce filtrage :"
   ]
  },
  {
   "cell_type": "markdown",
   "id": "eade07fc-dc4e-47f8-b5b8-565a154717f0",
   "metadata": {},
   "source": [
    "<table>\n",
    "      <tr>\n",
    "        <th><center>N°</center></th>\n",
    "        <th><center>Nom</center></th>\n",
    "        <th><center>Nombre de lignes</center></th>\n",
    "        <th><center>Nombre de colonnes</center></th>\n",
    "        <th><center>Nombre de restaurants</center></th>\n",
    "      </tr>\n",
    "      <tr>\n",
    "        <td><center>1</center></td>\n",
    "        <td><center>df_business</center></td>\n",
    "        <td><center>150 346</center></td>\n",
    "        <td><center>3</center></td>\n",
    "        <td><center>A définir</center></td>\n",
    "      </tr>\n",
    "       <tr>\n",
    "        <td><center>2</center></td>\n",
    "        <td><center>df_review_br</center></td>\n",
    "        <td><center>1 613 801</center></td>\n",
    "        <td><center>3</center></td>\n",
    "        <td><center>A définir</center></td>\n",
    "      </tr>\n",
    "       <tr>\n",
    "        <td><center>3</center></td>\n",
    "        <td><center>df_final_API</center></td>\n",
    "        <td><center>44 (-93%)</center></td>\n",
    "        <td><center>3</center></td>\n",
    "        <td><center>37</center></td>\n",
    "      </tr>\n",
    "</table><br>"
   ]
  },
  {
   "cell_type": "markdown",
   "id": "8aa57214-d08b-4452-960c-492ec20010f5",
   "metadata": {},
   "source": [
    "A ce stade, \"df_business\" et \"df_review_br\" contiennent tous les types de commerces. Le filtrage des catégories et donc la définition du nombre de restaurants, se fera à l'étape suivante (\"Les manquants\")"
   ]
  },
  {
   "cell_type": "markdown",
   "id": "89391132-eb3d-4266-84f2-93eb90c442ce",
   "metadata": {
    "extensions": {
     "jupyter_dashboards": {
      "activeView": "grid_default",
      "views": {
       "grid_default": {
        "col": null,
        "height": 2,
        "hidden": true,
        "locked": true,
        "row": null,
        "width": 2
       }
      }
     }
    },
    "tags": []
   },
   "source": [
    "#### <a href=\"Renard_Anthony_2_notebook_022023.ipynb#C3312\"> 3.3.1.2 Les manquants<a>"
   ]
  },
  {
   "cell_type": "markdown",
   "id": "e01126df-8472-40b8-95e0-8238c17a6240",
   "metadata": {
    "extensions": {
     "jupyter_dashboards": {
      "activeView": "grid_default",
      "views": {
       "grid_default": {
        "col": null,
        "height": 2,
        "hidden": true,
        "locked": true,
        "row": null,
        "width": 2
       }
      }
     }
    },
    "tags": []
   },
   "source": [
    "Seul df_business présente des valeurs manquantes : \n",
    "\n",
    "<table>\n",
    "      <tr>\n",
    "        <th><center>N°</center></th>\n",
    "        <th><center>Nom dataframe</center></th>\n",
    "        <th><center>Nom colonne</center></th>\n",
    "        <th><center>Quantité</center></th>\n",
    "        <th><center>Pourcentage</center></th>\n",
    "        <th><center>Commentaire</center></th>\n",
    "      </tr>\n",
    "      <tr>\n",
    "        <td><center>1</center></td>\n",
    "        <td><center>df_business</center></td>\n",
    "        <td><center>categories</center></td>\n",
    "        <td><center>103</center></td>\n",
    "        <td><center>0.07 %</center></td>\n",
    "        <td><center>Très faible % : suppression</center></td>\n",
    "      </tr>\n",
    "</table><br>"
   ]
  },
  {
   "cell_type": "markdown",
   "id": "7d403af3-b066-478e-a723-c892f1eafb2c",
   "metadata": {},
   "source": [
    "Le statut de df_business est :"
   ]
  },
  {
   "cell_type": "markdown",
   "id": "39d59e09-2cb6-4bf8-bb93-6aece6d324db",
   "metadata": {},
   "source": [
    "<table>\n",
    "      <tr>\n",
    "        <th><center>N°</center></th>\n",
    "        <th><center>Nom</center></th>\n",
    "        <th><center>Nombre de lignes</center></th>\n",
    "        <th><center>Nombre de colonnes</center></th>\n",
    "        <th><center>Nombre de restaurants</center></th>\n",
    "      </tr>\n",
    "      <tr>\n",
    "        <td><center>1</center></td>\n",
    "        <td><center>df_business</center></td>\n",
    "        <td><center>150 243 (-0.07%)</center></td>\n",
    "        <td><center>3</center></td>\n",
    "        <td><center>A définir</center></td>\n",
    "      </tr>\n",
    "</table><br>"
   ]
  },
  {
   "cell_type": "markdown",
   "id": "53b09dcf-8fab-476d-ad80-759b68044a8e",
   "metadata": {},
   "source": [
    "Maintenant qu'il n'y a plus de manquant dans la colonne catégories, je peux garder seulement les lignes concernant les restaurants. Nous avons donc :"
   ]
  },
  {
   "cell_type": "markdown",
   "id": "e0e72242-18e3-42fc-a9b9-3778070acd78",
   "metadata": {},
   "source": [
    "<table>\n",
    "      <tr>\n",
    "        <th><center>N°</center></th>\n",
    "        <th><center>Nom</center></th>\n",
    "        <th><center>Nombre de lignes</center></th>\n",
    "        <th><center>Nombre de colonnes</center></th>\n",
    "        <th><center>Nombre de restaurants</center></th>\n",
    "      </tr>\n",
    "      <tr>\n",
    "        <td><center>1</center></td>\n",
    "        <td><center>df_business</center></td>\n",
    "        <td><center>52 286 (-65%)</center></td>\n",
    "        <td><center>3</center></td>\n",
    "        <td><center>52 286</center></td>\n",
    "      </tr>\n",
    "</table><br>"
   ]
  },
  {
   "cell_type": "markdown",
   "id": "34135e28-5795-4fbd-ab2a-337cb5e28401",
   "metadata": {
    "tags": []
   },
   "source": [
    "#### <a href=\"Renard_Anthony_2_notebook_022023.ipynb#C3313\"> 3.3.1.3 Les types<a>"
   ]
  },
  {
   "cell_type": "markdown",
   "id": "be53eb07-2c30-489e-8cad-350451879e03",
   "metadata": {},
   "source": [
    "Seule la dataframe \"df_final_api\" est concernée :"
   ]
  },
  {
   "cell_type": "markdown",
   "id": "c77bd5f0-3d51-494f-a71a-4e7d5758a31e",
   "metadata": {},
   "source": [
    "<table>\n",
    "      <tr>\n",
    "        <th><center>N°</center></th>\n",
    "        <th><center>Nom</center></th>\n",
    "        <th><center>Type float64</center></th>\n",
    "        <th><center>Type int64</center></th>\n",
    "        <th><center>Type objet</center></th>\n",
    "        <th><center>Type datetime</center></th>\n",
    "      </tr>\n",
    "      <tr>\n",
    "        <td><center>1</center></td>\n",
    "        <td><center>df_final_api</center></td>\n",
    "        <td><center>0</center></td>\n",
    "        <td><center>0 -> 1</center></td>\n",
    "        <td><center>3 -> 2</center></td>\n",
    "        <td><center>0</center></td>\n",
    "      </tr>\n",
    "</table><br>"
   ]
  },
  {
   "cell_type": "markdown",
   "id": "7f2764d2-60a4-428b-bdf1-4f8860b262ed",
   "metadata": {},
   "source": [
    "J'ai donc passé la notation allant de 1 à 5 en entier car elle était en objet"
   ]
  },
  {
   "cell_type": "markdown",
   "id": "94c25c4c-6d65-4318-b698-bcbdbfde39a2",
   "metadata": {
    "tags": []
   },
   "source": [
    "#### <a href=\"Renard_Anthony_2_notebook_022023.ipynb#C3314\"> 3.3.1.4 Les doublons</a>"
   ]
  },
  {
   "cell_type": "markdown",
   "id": "5a4cc5ac-003e-4f49-9b63-8137a9babf2d",
   "metadata": {},
   "source": [
    "Seule la dataframe \"df_review_br\" est concernée :"
   ]
  },
  {
   "cell_type": "markdown",
   "id": "c52b62b1-166f-4a3e-a0ae-228143f5d084",
   "metadata": {},
   "source": [
    "<table>\n",
    "      <tr>\n",
    "        <th><center>Nom</center></th>\n",
    "        <th><center>Nombre de lignes</center></th>\n",
    "        <th><center>Commentaire</center></th>\n",
    "      </tr>\n",
    "      <tr>\n",
    "        <td><center>df_review_br</center></td>\n",
    "        <td><center>1 613 801  -> 1 611 202 (-2599 lignes ; -0.2%)</center></td>\n",
    "        <td><center>Tous types de business</center></td>\n",
    "      </tr>\n",
    "</table><br>"
   ]
  },
  {
   "cell_type": "markdown",
   "id": "ff15d931-7861-484a-a07a-398eaef5d2eb",
   "metadata": {},
   "source": [
    "Les répétitions des classes objets détectées dans les autres dataframes ne sembles pas incohérentes"
   ]
  },
  {
   "cell_type": "markdown",
   "id": "130e6ca8-5eb9-417f-989e-ebe8078f907e",
   "metadata": {
    "extensions": {
     "jupyter_dashboards": {
      "activeView": "grid_default",
      "views": {
       "grid_default": {
        "col": null,
        "height": 2,
        "hidden": true,
        "locked": true,
        "row": null,
        "width": 2
       }
      }
     }
    },
    "tags": []
   },
   "source": [
    "#### <a href=\"Renard_Anthony_2_notebook_022023.ipynb#C3315\">3.3.1.5 Outliers<a>   "
   ]
  },
  {
   "cell_type": "markdown",
   "id": "991317ce-cad2-4a59-a81d-6f68647390c4",
   "metadata": {},
   "source": [
    "Pas de souci apparement sur les types objets sur les 2 dataframes"
   ]
  },
  {
   "cell_type": "markdown",
   "id": "b7b1495b-193f-4103-9bd3-7b95533db603",
   "metadata": {
    "tags": []
   },
   "source": [
    "##### <a href=\"Renard_Anthony_2_notebook_022023.ipynb#C33151\">3.3.1.5.1 df_review_br<a>   "
   ]
  },
  {
   "cell_type": "markdown",
   "id": "47b8a02c-dce2-4489-a425-ab262b85bc52",
   "metadata": {},
   "source": [
    "La colonne \"stars\" contient des valeurs entre 1 et 2 ; c'est ce que nous avions prévu :"
   ]
  },
  {
   "cell_type": "markdown",
   "id": "f8285c91-e850-4a0f-84da-16d8ca92244b",
   "metadata": {},
   "source": [
    "<center><img alt=\"outliers\" src=\"images/outliers/stars.png\"/></center>"
   ]
  },
  {
   "cell_type": "markdown",
   "id": "623807a7-c1da-4914-a582-e76db91a8465",
   "metadata": {
    "tags": []
   },
   "source": [
    "##### <a href=\"Renard_Anthony_2_notebook_022023.ipynb#C33122\">3.3.1.5.2 df_final_api<a>  "
   ]
  },
  {
   "cell_type": "markdown",
   "id": "f634a446-f98e-4562-b105-e998b6f357c4",
   "metadata": {},
   "source": [
    "La colonne \"rating\" contient des valeurs entre 1 et 2 ; c'est ce que nous avions prévu :"
   ]
  },
  {
   "cell_type": "markdown",
   "id": "1d71b740-d409-420a-8b03-75702246483a",
   "metadata": {},
   "source": [
    "<center><img alt=\"outliers\" src=\"images/outliers/rating.png\"/></center>"
   ]
  },
  {
   "cell_type": "markdown",
   "id": "893b5017-3aa2-4f98-a162-2718fe275a48",
   "metadata": {
    "tags": []
   },
   "source": [
    "#### <a href=\"Renard_Anthony_2_notebook_022023.ipynb#C3316\"> 3.3.1.6 Rassemblement des dataframes</a>"
   ]
  },
  {
   "cell_type": "markdown",
   "id": "ca3cbf4d-87a7-4091-bca0-907f7798c7c8",
   "metadata": {},
   "source": [
    "Avant rassemblement des dataframes, nous avons le statut suivant : \n",
    "    \n",
    "<table>\n",
    "      <tr>\n",
    "        <th><center>N°</center></th>\n",
    "        <th><center>Nom</center></th>\n",
    "        <th><center>Nombre de lignes</center></th>\n",
    "        <th><center>Nombre de colonnes</center></th>\n",
    "        <th><center>Nombre de restaurants</center></th>\n",
    "      </tr>\n",
    "      <tr>\n",
    "        <td><center>1</center></td>\n",
    "        <td><center>df_business</center></td>\n",
    "        <td><center>52 286</center></td>\n",
    "        <td><center>3</center></td>\n",
    "        <td><center>52 286</center></td>\n",
    "      </tr>\n",
    "       <tr>\n",
    "        <td><center>2</center></td>\n",
    "        <td><center>df_review_br</center></td>\n",
    "        <td><center>1 613 801</center></td>\n",
    "        <td><center>3</center></td>\n",
    "        <td><center>A filtrer</center></td>\n",
    "      </tr>\n",
    "       <tr>\n",
    "        <td><center>3</center></td>\n",
    "        <td><center>df_final_API</center></td>\n",
    "        <td><center>37</center></td>\n",
    "        <td><center>3</center></td>\n",
    "        <td><center>33</center></td>\n",
    "      </tr>\n",
    "</table><br>"
   ]
  },
  {
   "cell_type": "markdown",
   "id": "38a31c5b-acac-4705-9024-dbe37fe2fd32",
   "metadata": {},
   "source": [
    "Je vais rassembler \"df_business\" (qui ne contient que des restaurants) et \"df_business_br\" qui contient tous les business ayant des notes entre 1 et 2 afin d'avoir \"df_final_dataset\" ne contenant que des restaurants avec des avis et des notes entre 1 et 2. Nous avons donc maintenant cette nouvelle dataframe (après avoir enlevé les doublons) :"
   ]
  },
  {
   "cell_type": "markdown",
   "id": "a3566591-8aa8-467e-b35c-f8a55218532a",
   "metadata": {},
   "source": [
    "<table>\n",
    "      <tr>\n",
    "        <th><center>N°</center></th>\n",
    "        <th><center>Nom</center></th>\n",
    "        <th><center>Nombre de lignes</center></th>\n",
    "        <th><center>Nombre de colonnes</center></th>\n",
    "        <th><center>Nombre de restaurants</center></th>\n",
    "      </tr>\n",
    "      <tr>\n",
    "        <td><center>1</center></td>\n",
    "        <td><center>df_final_dataset</center></td>\n",
    "        <td><center>970 045</center></td>\n",
    "        <td><center>3</center></td>\n",
    "        <td><center>33 885</center></td>\n",
    "      </tr>\n",
    "</table><br>"
   ]
  },
  {
   "cell_type": "markdown",
   "id": "8beb0b3d-6872-4403-9882-b7f54913a339",
   "metadata": {},
   "source": [
    "Ajoutons maintenant les de \"df_final_api\". Nous obtenons donc :"
   ]
  },
  {
   "cell_type": "markdown",
   "id": "72d42bfb-846c-43f3-93fb-43a946076ec9",
   "metadata": {},
   "source": [
    "<table>\n",
    "      <tr>\n",
    "        <th><center>N°</center></th>\n",
    "        <th><center>Nom</center></th>\n",
    "        <th><center>Nombre de lignes</center></th>\n",
    "        <th><center>Nombre de colonnes</center></th>\n",
    "        <th><center>Nombre de restaurants</center></th>\n",
    "      </tr>\n",
    "      <tr>\n",
    "        <td><center>1</center></td>\n",
    "        <td><center>df_final</center></td>\n",
    "        <td><center>970 082</center></td>\n",
    "        <td><center>3</center></td>\n",
    "        <td><center>33 916</center></td>\n",
    "      </tr>\n",
    "</table><br>"
   ]
  },
  {
   "cell_type": "markdown",
   "id": "18906c5f-0ea9-4051-8004-5b311fa8b9d5",
   "metadata": {
    "tags": []
   },
   "source": [
    "#### <a href=\"Renard_Anthony_2_notebook_exploration_012023.ipynb#C3317\">3.3.1.7 Bilan du nettoyage<a> "
   ]
  },
  {
   "cell_type": "markdown",
   "id": "42a7c6a5-e037-4638-a56a-1967dcc55671",
   "metadata": {},
   "source": [
    "Après toutes les opérations de nettoyage vues ci-dessus, voici la configuration du dataframe finale : <br> \n",
    "\n",
    "\n",
    "<table>\n",
    "      <tr>\n",
    "        <th><center>N°</center></th>\n",
    "        <th><center>Nom</center></th>\n",
    "        <th><center>Nombre de lignes</center></th>\n",
    "        <th><center>Nombre de colonnes</center></th>\n",
    "        <th><center>Type int64</center></th>\n",
    "        <th><center>Type objet</center></th>\n",
    "        <th><center>Nombre de restaurants</center></th>\n",
    "      </tr>\n",
    "      <tr>\n",
    "        <td><center>1</center></td>\n",
    "        <td><center>df_final</center></td>\n",
    "        <td><center>970 082</center></td>\n",
    "        <td><center>3</center></td>\n",
    "        <td><center>1</center></td>\n",
    "        <td><center>2</center></td>\n",
    "        <td><center>33916</center></td>\n",
    "      </tr>\n",
    "</table><br>\n"
   ]
  },
  {
   "cell_type": "markdown",
   "id": "28a00339-717e-4356-9a9a-5ded26b6a4ec",
   "metadata": {},
   "source": [
    "Cette dataframe contient 970 082 avis et notes (1/5 et 2/5) de 33916 restaurants"
   ]
  },
  {
   "cell_type": "markdown",
   "id": "c8c4ca29-83f1-4f11-9b60-7f1fa95c15fd",
   "metadata": {},
   "source": [
    "<center><img alt=\"reataurant\" src=\"images/restaurant.png\"/></center>"
   ]
  },
  {
   "cell_type": "markdown",
   "id": "05bc0ab4-eed2-434a-a33b-175bea2e52ab",
   "metadata": {},
   "source": [
    "Remarque : au vu du faible impact de la considération des données API sur la dataframe finale (faible quantité) et afin de garder une stabilité dans les données pour nos analyses (le résultat de l'API peut changer tous les jours), nous allons travailler avec df_final_dataset."
   ]
  },
  {
   "cell_type": "markdown",
   "id": "b0b1d1d1-553c-4c4a-aa56-4f853fa46e22",
   "metadata": {
    "tags": []
   },
   "source": [
    "### <a href=\"Renard_Anthony_2_notebook_022023.ipynb#C332\"> 3.3.2 Images<a>"
   ]
  },
  {
   "cell_type": "markdown",
   "id": "e5452e78-64f3-44ad-87f6-e830d9533b5c",
   "metadata": {},
   "source": [
    "#### <a href=\"Renard_Anthony_2_notebook_022023.ipynb#C3321\"> 3.3.2.1 Sélection des lignes et des colonnes d'un point de vue \"métier\"<a>"
   ]
  },
  {
   "cell_type": "markdown",
   "id": "883ec362-bcd3-4e2e-bdd5-1e95559f0aae",
   "metadata": {},
   "source": [
    "La problématique étant la suivante : \"Labelliser automatiquement les photos postées\", on va sélectionner les colonnes pertinentes répondants à notre problématique. On va donc ne garder que les colonnes \"photo_id\" et \"label\".  Voici le statut de df_images après ce filtrage :"
   ]
  },
  {
   "cell_type": "markdown",
   "id": "32a20b8d-7e5a-4ff2-9dbd-db2ea4a60ff6",
   "metadata": {},
   "source": [
    "<table>\n",
    "      <tr>\n",
    "        <th><center>N°</center></th>\n",
    "        <th><center>Nom</center></th>\n",
    "        <th><center>Nombre de lignes</center></th>\n",
    "        <th><center>Nombre de colonnes</center></th>\n",
    "      </tr>\n",
    "      <tr>\n",
    "        <td><center>1</center></td>\n",
    "        <td><center>images</center></td>\n",
    "        <td><center>200 100</center></td>\n",
    "        <td><center>2</center></td>\n",
    "      </tr>\n",
    "</table><br>"
   ]
  },
  {
   "cell_type": "markdown",
   "id": "9ac8aae3-3908-43ca-abd2-5f9d94745572",
   "metadata": {},
   "source": [
    "#### <a href=\"Renard_Anthony_2_notebook_022023.ipynb#C3322\"> 3.3.2.2 Les manquants<a>"
   ]
  },
  {
   "cell_type": "markdown",
   "id": "e15a6505-9b84-47b9-a976-bad322d03e22",
   "metadata": {},
   "source": [
    "Pas de manquants sur df_images."
   ]
  },
  {
   "cell_type": "markdown",
   "id": "694b94b6-d964-45ff-b965-4b924b716ada",
   "metadata": {},
   "source": [
    "#### <a href=\"Renard_Anthony_2_notebook_022023.ipynb#C3323\"> 3.3.2.3 Les types<a>"
   ]
  },
  {
   "cell_type": "markdown",
   "id": "51790ab5-3f0f-40aa-a984-bd3b49ccf339",
   "metadata": {},
   "source": [
    "Les types sont bien affectés sur df_images (que des objets)."
   ]
  },
  {
   "cell_type": "markdown",
   "id": "dc806afc-4700-4db5-bc3b-7d8291f84727",
   "metadata": {},
   "source": [
    "#### <a href=\"Renard_Anthony_2_notebook_022023.ipynb#C3324\"> 3.3.2.4 Les doublons</a>"
   ]
  },
  {
   "cell_type": "markdown",
   "id": "cd0433cd-df76-4b02-8cbb-c805c023c154",
   "metadata": {},
   "source": [
    "Si l'on prend les 2 colonnes de \"df_images\", il n'y a pas de doublons. Cependant si l'on prend que \"photo_id\", on retrouve 2 \"id\" qui sont répétés. Ce qui veut dire que la même photo a 2 labels. On constate ici 2 fois la même photo. En vérifiant chaque photo, les 2 labels sont plutôt sur \"drink\" et \"food\" au lieu de \"inside\". "
   ]
  },
  {
   "cell_type": "markdown",
   "id": "909bc4ad-6642-4fe8-bdd2-731c5c05db0e",
   "metadata": {},
   "source": [
    "<center><img alt=\"photo\" src=\"images/photos/_CYoxbCIKuAwpq4crHCPWg.jpg\"/></center>\n",
    "<center><img alt=\"photo\" src=\"images/photos/qtl5YDIc2q0yelW_e9FfqQ.jpg\"/></center>"
   ]
  },
  {
   "cell_type": "markdown",
   "id": "4b31f89c-ef3d-4b57-9a3e-1407a66c0500",
   "metadata": {},
   "source": [
    "Je vais donc garder les 2 derniers éléments (drink et food)"
   ]
  },
  {
   "cell_type": "markdown",
   "id": "987d9f5d-7d32-411e-814b-b2899c531712",
   "metadata": {},
   "source": [
    "<table>\n",
    "      <tr>\n",
    "        <th><center>Nom</center></th>\n",
    "        <th><center>Nombre de lignes</center></th>\n",
    "        <th><center>Commentaire</center></th>\n",
    "      </tr>\n",
    "      <tr>\n",
    "        <td><center>df_images</center></td>\n",
    "        <td><center>200100  -> 200098 (-2 lignes ; -0%)</center></td>\n",
    "        <td><center>Doublons sur \"photo_id\" uniquement</center></td>\n",
    "      </tr>\n",
    "</table><br>"
   ]
  },
  {
   "cell_type": "markdown",
   "id": "3c1aec2c-a6f3-48cd-b56d-27fbc11a56f3",
   "metadata": {},
   "source": [
    "#### <a href=\"Renard_Anthony_2_notebook_022023.ipynb#C3325\">3.3.2.5 Outliers<a>   "
   ]
  },
  {
   "cell_type": "markdown",
   "id": "af8a46ed-dec0-4e1b-8a3b-06d9ef0ecfbd",
   "metadata": {},
   "source": [
    "Pas de souci apparent sur les outliers \"objets\""
   ]
  },
  {
   "cell_type": "markdown",
   "id": "e2787c99-00bf-4ad0-b04c-1768db53aac8",
   "metadata": {},
   "source": [
    "#### <a href=\"Renard_Anthony_2_notebook_022023.ipynb#C3326\">3.3.2.6 Alignement de la liste d'images et le dataframe<a>   "
   ]
  },
  {
   "cell_type": "markdown",
   "id": "f101d849-98f3-4fb8-9f9b-493fe96ac267",
   "metadata": {},
   "source": [
    "Les \"photos_id\" de \"df_images\" sont toutes présentes de manière unique dans \"list_images\". On pourra donc exploiter toutes les images citées dans \"df_images\""
   ]
  },
  {
   "cell_type": "markdown",
   "id": "3690b154-80ee-4998-94b6-225c63ebc7b9",
   "metadata": {
    "tags": []
   },
   "source": [
    "#### <a href=\"Renard_Anthony_2_notebook_exploration_012023.ipynb#C3327\">3.3.2.7 Bilan du nettoyage<a> "
   ]
  },
  {
   "cell_type": "markdown",
   "id": "c59f9b12-1c0a-4c40-a95b-1c0eead28a87",
   "metadata": {},
   "source": [
    "Après toutes les opérations de nettoyage vues ci-dessus, voici la configuration finale du dataframe : <br> \n",
    "\n",
    "\n",
    "<table>\n",
    "      <tr>\n",
    "        <th><center>N°</center></th>\n",
    "        <th><center>Nom</center></th>\n",
    "        <th><center>Nombre de lignes</center></th>\n",
    "        <th><center>Nombre de colonnes</center></th>\n",
    "        <th><center>Type objet</center></th>\n",
    "      </tr>\n",
    "      <tr>\n",
    "        <td><center>1</center></td>\n",
    "        <td><center>df_images</center></td>\n",
    "        <td><center>200 098</center></td>\n",
    "        <td><center>2</center></td>\n",
    "        <td><center>2</center></td>\n",
    "      </tr>\n",
    "</table><br>"
   ]
  },
  {
   "cell_type": "markdown",
   "id": "657f6c77-2f70-494c-a5cb-108928cb4a86",
   "metadata": {
    "tags": []
   },
   "source": [
    "# <a href=\"Renard_Anthony_2_notebook_022023.ipynb#C4\"> 4. Analyses <a>"
   ]
  },
  {
   "cell_type": "markdown",
   "id": "a2628087-ce03-4a0f-9ee8-6952c5a070ec",
   "metadata": {
    "tags": []
   },
   "source": [
    "## <a href=\"Renard_Anthony_2_notebook_022023.ipynb#C41\"> 4.1 Texte <a>"
   ]
  },
  {
   "cell_type": "markdown",
   "id": "3d442435-b874-4414-83f6-626dcd5a5d49",
   "metadata": {},
   "source": [
    "Analyse sur \"df_final_dataset\" (sans les quelques lignes API pour garder une stabilité dans l'analyse); en effet à chaque requête via l'API, le nombre de commentaires et la notation peuvent évoluer."
   ]
  },
  {
   "cell_type": "markdown",
   "id": "eb1cf07a-2b31-4d3c-a901-029751ae8556",
   "metadata": {
    "tags": []
   },
   "source": [
    "### <a href=\"Renard_Anthony_2_notebook_exploration_022023.ipynb#C411\"> 4.1.1 Analyses univariées <a>"
   ]
  },
  {
   "cell_type": "markdown",
   "id": "0d13acde-bd70-47fc-a0d9-dd0681bb6b68",
   "metadata": {
    "tags": []
   },
   "source": [
    "#### <a href=\"Renard_Anthony_2_notebook_exploration_022023.ipynb#C4111\"> 4.1.1.1 Notation <a>"
   ]
  },
  {
   "cell_type": "markdown",
   "id": "7f0290a6-5e9a-4e84-8441-220c214adbd7",
   "metadata": {},
   "source": [
    "<center><img alt=\"reataurant\" src=\"images/analyse/notes_camenbert.png\"/></center>"
   ]
  },
  {
   "cell_type": "markdown",
   "id": "159352c2-a601-48c4-8888-85d3c4a52c97",
   "metadata": {},
   "source": [
    "Il y a 58% de note à et 42% de notes à 2. Ce déséquilibre ne gêne pas puisque nous sommes dans un problème d'analyse textuelles des insatisfactions (avis)  et non de classification via ces notes. "
   ]
  },
  {
   "cell_type": "markdown",
   "id": "0b718cc9-2377-46a4-88a5-23f6cc9a4c14",
   "metadata": {
    "tags": []
   },
   "source": [
    "#### <a href=\"Renard_Anthony_2_notebook_022023.ipynb#C4112\"> 4.1.1.2 Analyse de la longueur des avis <a>"
   ]
  },
  {
   "cell_type": "markdown",
   "id": "273fc609-c426-4e52-88cd-6dce9335f221",
   "metadata": {},
   "source": [
    "Voici la répartition des longueurs des avis dans le corpus : "
   ]
  },
  {
   "cell_type": "markdown",
   "id": "12701ca2-5f1a-4761-bd54-35d50c31c085",
   "metadata": {},
   "source": [
    "<center><img alt=\"moustache\" src=\"images/analyse/dispersion_length.png\"/></center>\n",
    "<center><img alt=\"moustache\" src=\"images/analyse/moustache_lengh.png\"/></center>"
   ]
  },
  {
   "cell_type": "markdown",
   "id": "60041b05-50ee-4872-bd88-566b9bdb8daa",
   "metadata": {},
   "source": [
    "<table>\n",
    "      <tr>\n",
    "        <th><center>Nom</center></th>\n",
    "        <th><center>Valeur</center></th>\n",
    "      </tr>\n",
    "      <tr>\n",
    "        <td><center>Min</center></td>\n",
    "        <td><center>1</center></td>\n",
    "      </tr>\n",
    "      <tr>\n",
    "        <td><center>Max</center></td>\n",
    "        <td><center>5000</center></td>\n",
    "      </tr>\n",
    "      <tr>\n",
    "        <td><center>Moyenne</center></td>\n",
    "        <td><center>656</center></td>\n",
    "      </tr>\n",
    "        <tr>\n",
    "        <td><center>Médiane</center></td>\n",
    "        <td><center>583</center></td>\n",
    "      </tr>\n",
    "        <td><center>Q1</center></td>\n",
    "        <td><center>273</center></td>\n",
    "       </tr>\n",
    "        <tr>\n",
    "        <td><center>Q2</center></td>\n",
    "        <td><center>482</center></td>\n",
    "       </tr>\n",
    "        <tr>\n",
    "        <td><center>Q3</center></td>\n",
    "        <td><center>835</center></td>\n",
    "       </tr>\n",
    "</table>"
   ]
  },
  {
   "cell_type": "markdown",
   "id": "f5767f4e-4d6a-433f-bffc-ae73b88e1491",
   "metadata": {},
   "source": [
    "La longueur des commentaires sont entre 1 et 5000. Cependant, 50% des commentaires ont entre 273 et 835 caractères."
   ]
  },
  {
   "cell_type": "markdown",
   "id": "2edd0b87-1d51-4389-ae9e-70b7610fa578",
   "metadata": {},
   "source": [
    "Voici également le nombre d'avis par restaurant et du coup leur classement en terme de représentation dans le jeu de données :\n",
    "<center><img alt=\"qte\" src=\"images/analyse/avis_qte.png\"/></center>"
   ]
  },
  {
   "cell_type": "markdown",
   "id": "848ccd1a-d909-4d67-bcb6-36dfc2844159",
   "metadata": {
    "tags": []
   },
   "source": [
    "### <a href=\"Renard_Anthony_2_notebook_022023.ipynb#C412\"> 4.1.2 Analyses multivariées <a>"
   ]
  },
  {
   "cell_type": "markdown",
   "id": "958fad80-cf5b-4c0b-8ef4-51049d820fd3",
   "metadata": {},
   "source": [
    "<center><img alt=\"corr\" src=\"images/analyse/corr.png\"/></center>\n",
    "<center><img alt=\"pairplot\" src=\"images/analyse/pairplot.png\"/></center>\n",
    "<center><img alt=\"pairgrid\" src=\"images/analyse/pairgrid.png\"/></center>"
   ]
  },
  {
   "cell_type": "markdown",
   "id": "c46a3c03-1260-4599-81f2-79b9ed7a8896",
   "metadata": {},
   "source": [
    "Pas de corrélation à constater entre le nombre de caractère et les notes 1 et 2 ; ceci n'a rien d'étonnant. "
   ]
  },
  {
   "cell_type": "markdown",
   "id": "7274c4a5-1f62-4fa3-88e8-7f48eb4a032f",
   "metadata": {},
   "source": [
    "Le restaurant le plus représenté dans le jeu de donnée est Mc-Donalds (un peu plus de 14000 avis -1.5% des avis)"
   ]
  },
  {
   "cell_type": "markdown",
   "id": "15a50a35-bca2-4c5b-bd0c-916c86d07553",
   "metadata": {
    "tags": []
   },
   "source": [
    "## <a href=\"Renard_Anthony_2_notebook_022023.ipynb#C42\"> 4.2 Images <a>"
   ]
  },
  {
   "cell_type": "markdown",
   "id": "3fa50975-2666-4516-91e6-4d4889012d69",
   "metadata": {},
   "source": [
    "### <a href=\"Renard_Anthony_2_notebook_exploration_022023.ipynb#C421\"> 4.2.1 Analyses univariées <a>"
   ]
  },
  {
   "cell_type": "markdown",
   "id": "779ee2c4-f693-4e49-ba7d-6d39f2085d75",
   "metadata": {},
   "source": [
    "Voici la répartition de nos photos par label :"
   ]
  },
  {
   "cell_type": "markdown",
   "id": "68a93710-9eb2-4c61-9c7d-c44ea2faa7ee",
   "metadata": {},
   "source": [
    "<center><img alt=\"label\" src=\"images/analyse/labels_camenbert.png\"/></center>"
   ]
  },
  {
   "cell_type": "markdown",
   "id": "ecddf7fd-5351-4f70-8565-2f26c6db4839",
   "metadata": {},
   "source": [
    "La répartition de nos labels ne sont pas équilibrés :<br>\n",
    "* Food : 108 152 photos (54%)\n",
    "* Inside : 56 029 photos (28%)\n",
    "* Outside : 18 569 photos (9%)\n",
    "* Drink : 15 670 photos (8%)\n",
    "* Menu : 1678 photos (1%)\n",
    "\n",
    "Total : 200 098 photos\n",
    "\n",
    "Pour ce projet, nous prendrons un échantillon de 200 images par catégories. Nous aurons donc une répartition équilibrée pour le traitement (voir chapitre 6)"
   ]
  },
  {
   "cell_type": "markdown",
   "id": "84f4584d-2497-45de-9be1-ed32c08c535f",
   "metadata": {
    "tags": []
   },
   "source": [
    "### <a href=\"Renard_Anthony_2_notebook_exploration_022023.ipynb#C422\"> 4.2.2 Analyses multivariées <a>"
   ]
  },
  {
   "cell_type": "markdown",
   "id": "e0c7fef4-59cc-4a68-8d85-05f90dde4c07",
   "metadata": {},
   "source": [
    "Voici quelques photos pour chaque catégorie :"
   ]
  },
  {
   "cell_type": "markdown",
   "id": "f0345c06-9778-4a4a-a058-71402dd39c58",
   "metadata": {},
   "source": [
    "Food<br>\n",
    "<img alt=\"food\" src=\"images/analyse/food.png\"/><br>\n",
    "Inside<br>\n",
    "<img alt=\"inside\" src=\"images/analyse/inside.png\"/><br>\n",
    "Outside<br>\n",
    "<img alt=\"outside\" src=\"images/analyse/outside.png\"/><br>\n",
    "Drink<br>\n",
    "<img alt=\"drink\" src=\"images/analyse/drink.png\"/><br>\n",
    "Menu<br>\n",
    "<img alt=\"menu\" src=\"images/analyse/menu.png\"/>"
   ]
  },
  {
   "cell_type": "markdown",
   "id": "ff3053a9-dc0e-4eed-9bde-3a834a21814b",
   "metadata": {},
   "source": [
    "Pour un échantillon, le label semble être aligné à l'image indiqué. J'ai effectué cette vérification pour beaucoup d'images prises aléatoirement."
   ]
  },
  {
   "cell_type": "markdown",
   "id": "157dd080-2bf8-45d4-a83d-c892d3961fc4",
   "metadata": {
    "tags": []
   },
   "source": [
    "# <a href=\"Renard_Anthony_2_notebook_022023.ipynb#C5\"> 5. Traitement des évaluations textuelles <a>"
   ]
  },
  {
   "cell_type": "markdown",
   "id": "2c299196-5d1e-44cb-8a48-a08fe54a090d",
   "metadata": {
    "tags": []
   },
   "source": [
    "## <a href=\"Renard_Anthony_2_notebook_022023.ipynb#C51\"> 5.1 Préparation avant traitement <a>"
   ]
  },
  {
   "cell_type": "markdown",
   "id": "e03165fe-0f91-41e5-a538-4095780b855c",
   "metadata": {
    "tags": []
   },
   "source": [
    "### <a href=\"Renard_Anthony_2_notebook_022023.ipynb#C511\"> 5.1.1 Définition des stopwords <a>"
   ]
  },
  {
   "cell_type": "markdown",
   "id": "be0407e4-eb9d-4420-b2be-81088570a4b4",
   "metadata": {},
   "source": [
    "On va ici créer la liste de mots trop génériques pour être informatif (ils sont très utilisés dans le langage). Dans notre cas on utilisera les stopwords anglais selon NLTK."
   ]
  },
  {
   "cell_type": "markdown",
   "id": "a405b417-17d4-4220-88fc-efb320e7061b",
   "metadata": {},
   "source": [
    "### <a href=\"Renard_Anthony_2_notebook_022023.ipynb#C512\"> 5.1.2 Définition des mots anglais<a>"
   ]
  },
  {
   "cell_type": "markdown",
   "id": "f564a113-41ac-4dbb-a2ec-0f14e7f40a89",
   "metadata": {},
   "source": [
    "On va ici définir une variable contenant les mots anglais celon NLTK pour pouvoir conserver que les mots anglais lors de notre traitement 1."
   ]
  },
  {
   "cell_type": "markdown",
   "id": "0fbad779-fc99-4cca-b064-95158bdbefdb",
   "metadata": {},
   "source": [
    "### <a href=\"Renard_Anthony_2_notebook_022023.ipynb#C513\"> 5.1.3 Sélection d'un échantillon d'avis et création de raw corpus<a>"
   ]
  },
  {
   "cell_type": "markdown",
   "id": "178d897e-e50e-460c-8a51-1b2f16147c68",
   "metadata": {},
   "source": [
    "Après avoir récupéré l'ensemble des documents, j'en ai pris un échantillon (3000 documents) et j'ai créé le raw-corpus (corpus avant traitement). Cette manoeuvre va permettre de gagner un temps précieux dans le processing des traitements. Nous avons donc 2252 restaurants et 1 983 409 mots dans le raw-corpus. "
   ]
  },
  {
   "cell_type": "markdown",
   "id": "40672356-4ddd-41c5-a372-ea4fdf4f0fde",
   "metadata": {},
   "source": [
    "### <a href=\"Renard_Anthony_2_notebook_022023.ipynb#C514\"> 5.1.4 Création de la liste des adjectifs et des adverbes<a>"
   ]
  },
  {
   "cell_type": "markdown",
   "id": "dbf6dc0d-c026-4045-9dd7-c61301ebca99",
   "metadata": {},
   "source": [
    "Pour le traitement LDA et NMF, je souhaite constater la différence de traitement dans le cas où je garde ou non les adjectifs et adverbes. Je crée donc ces 2 listes à l'image des 3000 documents sélectionnés."
   ]
  },
  {
   "cell_type": "markdown",
   "id": "432181ba-ed4d-413c-b155-dca7fac64234",
   "metadata": {
    "tags": []
   },
   "source": [
    "## <a href=\"Renard_Anthony_2_notebook_022023.ipynb#C52\"> 5.2 Traitement 1 : step by step <a>"
   ]
  },
  {
   "cell_type": "markdown",
   "id": "5997956d-bcd1-4194-8716-6455f1c4f3f9",
   "metadata": {},
   "source": [
    "J'ai traité ce raw-corpus de la manière suivantes :<br>\n",
    "1. Passage en minuscule\n",
    "2. Tokenisation\n",
    "3. Suppression des stopswords\n",
    "4. Suppression des mots rares\n",
    "5. Suppression des mots ayant 3 lettres au plus\n",
    "6. Conservation des mots 100% alphabétiques\n",
    "7. Stemming (racinisation) \n",
    "8. Conservation des mots anglais\n",
    "\n",
    "J'ai donc rédigé ces fonctions une par une et établi un pipeline qui appelle toutes ces fonctions en même temps et qui indique les étapes textuellement au fur et à mesure des traitements effectués  : \n",
    "<center><img alt=\"traitement\" src=\"images/text/t1/traitement.png\"/></center>\n",
    "A la fin des traitements, le \"raw-corpus\" (1 983 409 mots) devient \"corpus\" (4196 mots) et je peux afficher le WordCloud suivant : \n",
    "<center><img alt=\"wc1\" src=\"images/text/t1/wordcloud1.png\"/></center>\n",
    "Certains mots prennent plus de place que les autres et n'apportent pas forcément une indication claire sur les sujets d'insatisfaction. Par conséquent j'ai filtré sur le seuil d'apparition pour faire apparaitre ces sujets :\n",
    "<center><img alt=\"wc2\" src=\"images/text/t1/wordcloud2.png\"/></center>\n",
    "\n",
    "Voici la fréquence d'apparition des mots pour chaque WordCloud:<br>\n",
    "Wordcloud1:<br>\n",
    "<center><img alt=\"app\" src=\"images/text/t1/pourcentage_mots.png\"/></center>\n",
    "\"Food\" apparait 2632 fois.<br>\n",
    "Wordcloud2:<br>\n",
    "<center><img alt=\"app\" src=\"images/text/t1/pourcentage_mots_seuil.png\"/></center>\n",
    "\n",
    "Conclusion : on repère quelques sujets d’insatisfactions intéressants : \n",
    "Horribl « plate »,\n",
    "Wrong,\n",
    "Bland,\n",
    "Differ,\n",
    "Later.\n"
   ]
  },
  {
   "cell_type": "markdown",
   "id": "21a7e6f6-e86c-4613-ad9f-24c67e904df7",
   "metadata": {
    "tags": []
   },
   "source": [
    "## <a href=\"Renard_Anthony_2_notebook_022023.ipynb#C53\"> 5.3 Traitement 2 : Latent Dirichlet Allocation (LDA) <a>"
   ]
  },
  {
   "cell_type": "markdown",
   "id": "4b5c6b10-3134-477a-8b3a-d0b3ced22e00",
   "metadata": {},
   "source": [
    "### <a href=\"Renard_Anthony_2_notebook_022023.ipynb#C531\"> 5.3.1 Traitement des documents \"bruts\" <a>"
   ]
  },
  {
   "cell_type": "markdown",
   "id": "059c2f39-6bb1-4e48-a5dd-764335ddedd3",
   "metadata": {},
   "source": [
    "<center><img alt=\"lda1\" src=\"images/text/t2/lda1.png\"/></center>"
   ]
  },
  {
   "cell_type": "markdown",
   "id": "255cf5f7-bf40-4b27-b9d7-0eea81d659e4",
   "metadata": {},
   "source": [
    "Voici la fréquence d'apparition des mots dans chaque topic : \n",
    "<center><img alt=\"lda1\" src=\"images/text/t2/hist_lda1.png\"/></center>"
   ]
  },
  {
   "cell_type": "markdown",
   "id": "eb40a128-f8f7-40a5-8958-3e14de8dfdb0",
   "metadata": {},
   "source": [
    "### <a href=\"Renard_Anthony_2_notebook_022023.ipynb#C532\"> 5.3.2 Traitement des documents \"bruts\" avec suppression des adverbes et adjectifs <a>"
   ]
  },
  {
   "cell_type": "markdown",
   "id": "35cd9f33-ce0d-4590-8239-d0b0bbd9fbbf",
   "metadata": {},
   "source": [
    "<center><img alt=\"lda2\" src=\"images/text/t2/lda2.png\"/></center>"
   ]
  },
  {
   "cell_type": "markdown",
   "id": "d1bebb75-54e5-4473-9b48-0bee1e8549e4",
   "metadata": {},
   "source": [
    "### <a href=\"Renard_Anthony_2_notebook_022023.ipynb#C533\"> 5.3.3 Traitement des documents traités (corpus) <a>"
   ]
  },
  {
   "cell_type": "markdown",
   "id": "fed4a26f-f307-45e4-9cb1-4fa67e36a5ad",
   "metadata": {},
   "source": [
    "<center><img alt=\"lda3\" src=\"images/text/t2/lda3.png\"/></center>"
   ]
  },
  {
   "cell_type": "markdown",
   "id": "80a28d3d-e67f-474b-949b-2ff706d16c01",
   "metadata": {},
   "source": [
    "Voici un traitement du corpus avec lda.model et une visualisation pyLDAvis :"
   ]
  },
  {
   "cell_type": "markdown",
   "id": "2d7b9e5d-db46-48d2-8667-12b286a66d2a",
   "metadata": {},
   "source": [
    "<center><img alt=\"lda3\" src=\"images/text/t2/lda3_avis.png\"/></center>"
   ]
  },
  {
   "cell_type": "markdown",
   "id": "2360678f-a776-404e-a2d9-2dad7c233b48",
   "metadata": {},
   "source": [
    "On observe une différence entre le traitement du corpus par la fonction LDADERICHELET (utilisé pour les analyse LDA précédentes) et lda.model ci-dessus. "
   ]
  },
  {
   "cell_type": "markdown",
   "id": "421352d9-b5e5-43ab-bb7c-8e58c7e494d0",
   "metadata": {},
   "source": [
    "### <a href=\"Renard_Anthony_2_notebook_022023.ipynb#C534\"> 5.3.4 Conclusion LDA <a>"
   ]
  },
  {
   "cell_type": "markdown",
   "id": "96b3c170-8157-48ae-95f6-1c9e1d9ae7ff",
   "metadata": {},
   "source": [
    "Le traitement des documents \"bruts\" montre un résultat intéressant :\n",
    "<center><img alt=\"lda1\" src=\"images/text/t2/lda1_analyse.png\"/></center>"
   ]
  },
  {
   "cell_type": "markdown",
   "id": "a2fdda7f-1334-4595-94df-991f3d2793b8",
   "metadata": {
    "tags": []
   },
   "source": [
    "## <a href=\"Renard_Anthony_2_notebook_022023.ipynb#C54\"> 5.4 Traitement 3 : Negative Matrix Factorisation (NMF) <a>"
   ]
  },
  {
   "cell_type": "markdown",
   "id": "b5d0fea5-967a-4578-8a95-c2bd6c25f5e0",
   "metadata": {},
   "source": [
    "### <a href=\"Renard_Anthony_2_notebook_022023.ipynb#C541\"> 5.4.1 Traitement des documents \"bruts\" <a>"
   ]
  },
  {
   "cell_type": "markdown",
   "id": "06c23401-b6fd-4d6a-a882-8f45eb276f30",
   "metadata": {},
   "source": [
    "<center><img alt=\"nmf1\" src=\"images/text/t3/nmf1.png\"/></center>"
   ]
  },
  {
   "cell_type": "markdown",
   "id": "68c20fdd-f1b4-4ca0-aa2c-12e6b1c1437b",
   "metadata": {},
   "source": [
    "Voici la fréquence d'apparition des mots dans chaque topic : \n",
    "<center><img alt=\"nmf1\" src=\"images/text/t3/hist_nmf1.png\"/></center>"
   ]
  },
  {
   "cell_type": "markdown",
   "id": "644e0447-e288-4c1e-93b3-ae6450a47c27",
   "metadata": {},
   "source": [
    "### <a href=\"Renard_Anthony_2_notebook_022023.ipynb#C542\"> 5.4.2 Traitement des documents \"bruts\" et suppression des adverbes et adjectifs<a>"
   ]
  },
  {
   "cell_type": "markdown",
   "id": "08dfc673-80fb-41c7-8174-8a2e7070ad90",
   "metadata": {},
   "source": [
    "<center><img alt=\"nmf2\" src=\"images/text/t3/nmf2.png\"/></center>"
   ]
  },
  {
   "cell_type": "markdown",
   "id": "bb06e49e-3e29-47ad-94e8-7d587e2a9492",
   "metadata": {},
   "source": [
    "### <a href=\"Renard_Anthony_2_notebook_022023.ipynb#C543\"> 5.4.3 Traitement des documents traités (corpus)<a>"
   ]
  },
  {
   "cell_type": "markdown",
   "id": "f356d5ca-a82f-4ddb-b021-34fcb2ac3919",
   "metadata": {},
   "source": [
    "<center><img alt=\"nmf3\" src=\"images/text/t3/nmf3.png\"/></center>"
   ]
  },
  {
   "cell_type": "markdown",
   "id": "64dbbd0b-68ea-469f-9fae-aa2a97038e42",
   "metadata": {},
   "source": [
    "### <a href=\"Renard_Anthony_2_notebook_022023.ipynb#C543\"> 5.4.4 Conclusion NMF<a>"
   ]
  },
  {
   "cell_type": "markdown",
   "id": "5669da6d-5a3e-4ba8-8a9e-8397c6a21c22",
   "metadata": {},
   "source": [
    "Le traitement des documents \"bruts\" montre un résultat intéressant :"
   ]
  },
  {
   "cell_type": "markdown",
   "id": "77aa2cb4-1106-46a2-8b56-62aeea87012b",
   "metadata": {},
   "source": [
    "<center><img alt=\"nmf1\" src=\"images/text/t3/nmf1_analyse.png\"/></center>"
   ]
  },
  {
   "cell_type": "markdown",
   "id": "baafcf8f-61d4-4837-8a8e-a39828bfc364",
   "metadata": {},
   "source": [
    "## <a href=\"Renard_Anthony_2_notebook_022023.ipynb#C55\"> 5.5 Conclusion <a>"
   ]
  },
  {
   "cell_type": "markdown",
   "id": "8bae9649-c058-4a58-afbb-271c325afc10",
   "metadata": {},
   "source": [
    "Plusieurs tests (dont 3 LDA et 3 NMF) ont été effectués pour trouver le plus d’insatisfactions possible (et donc le meilleur résultat).  3 insatisfactions principales ressortent le plus lors du traitement des documents « brutes »  : le temps d'attente, la mauvaise cuisine, la mauvaise communication et comportement. "
   ]
  },
  {
   "cell_type": "markdown",
   "id": "9ed9d19a-77a8-46ef-836d-ca6fb8e2cd0b",
   "metadata": {},
   "source": [
    "# <a href=\"Renard_Anthony_2_notebook_022023.ipynb#C6\"> 6. Traitement des images <a>"
   ]
  },
  {
   "cell_type": "markdown",
   "id": "9ec312c2-42bb-4dbc-812d-1841b245dcf8",
   "metadata": {},
   "source": [
    "## <a href=\"Renard_Anthony_2_notebook_022023.ipynb#C61\"> 6.1 Sélection d'un échantillon <a>"
   ]
  },
  {
   "cell_type": "markdown",
   "id": "f39481f3-8f81-4245-aeab-9d7b5f64a641",
   "metadata": {},
   "source": [
    "On a à notre disposition 200 098 photos. Pour mes traitements, je vais sélectionner 200 photos par catégorie (x5) soit 1000 photos : <br>\n",
    "<center><img alt=\"ech\" src=\"images/photos/ech.png\"/></center>"
   ]
  },
  {
   "cell_type": "markdown",
   "id": "62ff804e-e888-4544-8285-7161d618be45",
   "metadata": {
    "tags": []
   },
   "source": [
    "## <a href=\"Renard_Anthony_2_notebook_022023.ipynb#C62\"> 6.2 Scale Invariant Feature Transform (SIFT) <a>"
   ]
  },
  {
   "cell_type": "markdown",
   "id": "b6358753-94f0-4aca-8abd-e62e42bc4601",
   "metadata": {},
   "source": [
    "Voici le plan d'actions pour l'utilisation de SIFT dans le cadre de la labélisation automatique des images :<br>\n",
    "<center><img alt=\"plan\" src=\"images/photos/SIFT/plan.png\"/></center><br>"
   ]
  },
  {
   "cell_type": "markdown",
   "id": "cd532ab7-3058-411c-8f1f-d82daf98e0c3",
   "metadata": {},
   "source": [
    "### <a href=\"Renard_Anthony_2_notebook_022023.ipynb#C621\"> 6.2.1 Quelques testes de transformations d'images <a>"
   ]
  },
  {
   "cell_type": "markdown",
   "id": "0a666cce-5614-4f91-95cb-63ea6a154815",
   "metadata": {},
   "source": [
    "Afin de savoir quels traitements je vais effectuer sur les images avant de les faire traiter par SIFT, je vais faire quelques transformations d'images pour constater l'impact sur elles d'un point de vu visuel. Je ferai ensuite le choix de garder ou non certains traitements.<br>\n",
    "Dans un premier temps je vais choisir une photo que j'ai vais transformer en noir et blanc. Pour chacun d'elle, je vais égaliser l'histogramme. Voici les résultats : <br>\n",
    "Image couleur :<br>\n",
    "<center><img alt=\"ech\" src=\"images/photos/transformation/col_eg.png\"/></center><br>\n",
    "Image noir et blanc :<br>\n",
    "<center><img alt=\"ech\" src=\"images/photos/transformation/nb_eg.png\"/></center><br>"
   ]
  },
  {
   "cell_type": "markdown",
   "id": "2bc85e9a-6c56-48c7-a55f-1be0b00fc278",
   "metadata": {},
   "source": [
    "Pour chacun des résultats, on voit que les contrastes sont plus prononcés et donc les éléments de la photo sont plus mis en valeur. On remarque aussi avec les histogrammes cumulés normalisés, une pente linéaire un fois l'égalisation effectuée."
   ]
  },
  {
   "cell_type": "markdown",
   "id": "193943da-0ed2-4273-95c6-7caa3c9c8096",
   "metadata": {},
   "source": [
    "Sur l'image noir et blanc, j'ai ensuite ajouté un bruit Gaussien et un filtrage bruit par la moyenne "
   ]
  },
  {
   "cell_type": "markdown",
   "id": "d2348e68-5264-4900-9ae5-f7c9010ec320",
   "metadata": {},
   "source": [
    "<center><img alt=\"ech\" src=\"images/photos/transformation/bruit.png\"/></center><br>"
   ]
  },
  {
   "cell_type": "markdown",
   "id": "e9ae4c8b-552d-4042-9d27-2e1010fea857",
   "metadata": {},
   "source": [
    "On remarque que le lissage élimine le bruit mais apporte un flou sur l'image. "
   ]
  },
  {
   "cell_type": "markdown",
   "id": "c43ca1d8-c507-4a01-aca9-bc631c9479ce",
   "metadata": {},
   "source": [
    "Dans l'analyse SIFT suivante, je vais transformer mes images en noir et blanc égaliser l'histogramme pour mettre en valeur les contraste. J'ai aussi en parallèle ajouter l'élimination du bruit par lissage médian avant puis après l'égalisation mais cela a dégradé mes résultats finaux. "
   ]
  },
  {
   "cell_type": "markdown",
   "id": "68f0a18c-36e1-4c45-9363-b35c00deef3a",
   "metadata": {},
   "source": [
    "### <a href=\"Renard_Anthony_2_notebook_022023.ipynb#C622\"> 6.2.2 Détermination et affichage des descripteurs d'une image <a>"
   ]
  },
  {
   "cell_type": "markdown",
   "id": "1a19763e-be8b-4015-9844-e165e65b315c",
   "metadata": {},
   "source": [
    "Les descripteurs d'une image sont les points remarquables d'une image. Ils vont nous permettre de nous donner une indication sur son contenu. Pour l'image suivantes les descripteurs sont déterminés par de petits cercles : <br>\n",
    "<center><img alt=\"plan\" src=\"images/photos/SIFT/sift_descripteurs.png\"/></center><br>"
   ]
  },
  {
   "cell_type": "markdown",
   "id": "3efdbca2-425f-4d53-b687-b286cfd7c2cf",
   "metadata": {},
   "source": [
    "L'image contient 1106 descripteurs. Chaque descripteur est un vecteur de longueur 128."
   ]
  },
  {
   "cell_type": "markdown",
   "id": "d8028862-9e4b-4d42-9c97-33ce5032e8c6",
   "metadata": {},
   "source": [
    "### <a href=\"Renard_Anthony_2_notebook_022023.ipynb#C623\"> 6.2.3 Traitement des images <a>"
   ]
  },
  {
   "cell_type": "markdown",
   "id": "1c69064a-4d19-4e4e-b7b1-53e6c327769d",
   "metadata": {},
   "source": [
    "#### <a href=\"Renard_Anthony_2_notebook_0220231.ipynb#C6231\"> 6.2.3.1 Création des descripteurs de chaque image <a>"
   ]
  },
  {
   "cell_type": "markdown",
   "id": "f0419c87-0360-44ad-a26c-bb015f9056bf",
   "metadata": {},
   "source": [
    "Pour notre échantillon de 1000 images j’ai 1 386 563 descripteurs <br>\n",
    "(761 286 si application d’un filtre médian avant égalisation histogramme)<br>\n",
    "(733 078 si application d’un filtre médian après égalisation histogramme)"
   ]
  },
  {
   "cell_type": "markdown",
   "id": "98f6eb1d-ffa9-42d9-9569-b52fce7dd91a",
   "metadata": {},
   "source": [
    "#### <a href=\"Renard_Anthony_2_notebook_0220231.ipynb#C6232\"> 6.2.3.2 Création des clusters de descripteurs <a>"
   ]
  },
  {
   "cell_type": "markdown",
   "id": "1b582477-a15a-4928-8414-ceb826d5f98c",
   "metadata": {},
   "source": [
    "2 choix s'offrent à nous. Soit je prends un nombre maximum de cluster soit la racine carrée du nombre de descripteur (SQRT( 1 386 563) = 1178 clusters); soit je prends le nombre minium qui est = nombre de classe attendu final x 10 = 50. Afin de ne pas perdre d'informations, je vais prendre le maximum de clusters (1178)* et je ferai ensuite une réduction de dimensions. J'utiliserai la fonction MiniBatchKmeans pour gagner du temps sur le temps de traitement.<br>\n",
    "*(873 avec filtrage médian avant égalisation histogramme) <br>\n",
    "*(856 avec filtrage médian après égalisation histogramme) "
   ]
  },
  {
   "cell_type": "markdown",
   "id": "1dd7d200-36f4-46e5-90ba-adb63e17e5ee",
   "metadata": {},
   "source": [
    "#### <a href=\"Renard_Anthony_2_notebook_0220231.ipynb#C6233\"> 6.2.3.3 Création des histogrammes/features des images <a>"
   ]
  },
  {
   "cell_type": "markdown",
   "id": "eb9172dc-9680-4cfc-a06e-5aba5ffdb72b",
   "metadata": {},
   "source": [
    "Pour chaque image, on va prédire les numéros de cluster de chaque descripteur puis l'on va créer l'histogramme = comptage pour chaque numéro de cluster du nombre de descripteurs de l'image.<br>\n",
    "Features d'une image = Histogramme d'une image = Comptage pour une image du nombre de descripteurs par cluster.<br>"
   ]
  },
  {
   "cell_type": "markdown",
   "id": "d5f0291f-6ae5-4234-aec2-fa08bbda5e1b",
   "metadata": {},
   "source": [
    "#### <a href=\"Renard_Anthony_2_notebook_0220231.ipynb#C6234\"> 6.2.3.4 Réduction de dimension <a>"
   ]
  },
  {
   "cell_type": "markdown",
   "id": "6f10a28b-6234-425b-8ab0-b1c447a8dc5e",
   "metadata": {},
   "source": [
    "Nous avons 1178 clusters pour 1000 images : dim = 1000 x 1178. On va donc d'abord faire une PCA en conservant une variance de 99%. On va ainsi réduire notre dimension en privilégiant la conservation de la structure globale du jeu de donnée et ainsi permettre un meilleur temps de traitement du T-SNE. Après PCA la dimension est dim = 1000 x 698. <br>\n",
    "Après PCA, nous faisons une T-SNE qui permet de réduire encore plus notre jeu de donnée mais cette fois ci en mettant en valeur l'aspect local du jeu de donné. Après T-SNE, la dimension est dim= 1000 x 2.<br>\n",
    "Remarque :<br>\n",
    "-La réduction PCA permet de créer des features décorrélées entre elles, et de diminuer leur dimension, tout en gardant un niveau de variance expliquée élevé (99%)<br>\n",
    "-L'impact est une meilleure séparation des données via le T-SNE et une réduction du temps de traitement du T-SNE"
   ]
  },
  {
   "cell_type": "markdown",
   "id": "899b3fdd-e593-4c98-80e1-e768743ad05d",
   "metadata": {},
   "source": [
    "####  6.2.3.5 Résultats"
   ]
  },
  {
   "cell_type": "markdown",
   "id": "7d7c4dd0-ccaa-40cf-b593-7afd90245ac5",
   "metadata": {},
   "source": [
    "<center><img alt=\"visu\" src=\"images/photos/SIFT/analyse_visuelle.png\"/></center><br>"
   ]
  },
  {
   "cell_type": "markdown",
   "id": "e6ad083a-75d5-41d8-8b48-fe0e7a27bf63",
   "metadata": {},
   "source": [
    "Après réduction de dimension, on remarque que les catégories initialement fournies sont mélangées même si l'on observe une tendance sur les groupements. En utilisant Kmeans (à droite), mon classement est beaucoup plus segmenté. Cependant, le ARI score entre ces 2 classements est faible (15%). "
   ]
  },
  {
   "cell_type": "markdown",
   "id": "3ba61830-ef14-42f8-9e2d-1ad8c00b44ba",
   "metadata": {},
   "source": [
    "<center><img alt=\"visu\" src=\"images/photos/SIFT/sift_analyse_classe.png\"/></center><br>\n",
    "<center><img alt=\"visu\" src=\"images/photos/SIFT/class_report.png\"/></center><br>"
   ]
  },
  {
   "cell_type": "markdown",
   "id": "6e9cd5a2-8ea9-40d9-a7cd-cf319a4674dc",
   "metadata": {},
   "source": [
    "La matrice de confusion ci-dessus nous montre la corrélation entre les classes et les clusters. On observe que \"outside\" et \"Menu\" sont les correspondances les plus proches. Au globale on reste sur des scores assez faibles."
   ]
  },
  {
   "cell_type": "markdown",
   "id": "a09068e6-e4ac-4cbb-ba69-23c521773e76",
   "metadata": {},
   "source": [
    "####  6.2.3.6 Conclusion"
   ]
  },
  {
   "cell_type": "markdown",
   "id": "b1cb766c-1505-456d-8c49-773b80f5dfca",
   "metadata": {},
   "source": [
    "On voit ici que séparer les classes de façon non supervisée avec SIFT n'est si efficace pour notre cas. On a une piste intéressante mais on atteint certaines limites pour notre cas. On va donc tester une autre méthode : le CNN."
   ]
  },
  {
   "cell_type": "markdown",
   "id": "61e68cf0-4da5-4d73-ac1b-38aee2355cf6",
   "metadata": {},
   "source": [
    "## <a href=\"Renard_Anthony_2_notebook_022023.ipynb#C63\"> 6.3 Convolutional neural network (CNN) <a>"
   ]
  },
  {
   "cell_type": "markdown",
   "id": "a8849f5d-1dad-422e-beca-ff1bf0402669",
   "metadata": {
    "tags": []
   },
   "source": [
    "### <a href=\"Renard_Anthony_2_notebook_022023.ipynb#C631\"> 6.3.1  VGG16 : exploration <a>"
   ]
  },
  {
   "cell_type": "markdown",
   "id": "ed5c1f0b-b404-4e96-9f03-62cb267d3348",
   "metadata": {},
   "source": [
    "Voici la structure du VGG16 : "
   ]
  },
  {
   "cell_type": "markdown",
   "id": "7bd9b60e-881a-40d0-ac40-d1bc0f301e45",
   "metadata": {},
   "source": [
    "<center><img alt=\"cnn\" src=\"images/photos/CNN/vgg16.png\"/></center><br>"
   ]
  },
  {
   "cell_type": "markdown",
   "id": "682eddb3-28c6-46e7-908f-ca0640b4be9e",
   "metadata": {},
   "source": [
    "Dans Keras Application, VGG16 a été entraîné sur plus d’un million d’images provenant de la base de données ImageNet<br>\n",
    "Chaque couche a un rôle précis :\n",
    "- Convolution : son but est de repérer la présence d'un ensemble de features dans les images reçues en entrée\n",
    "- Correction Relu : La couche de correction ReLU remplace donc toutes les valeurs négatives reçues en entrées par des zéros. Elle joue le rôle de fonction d'activation.\n",
    "- L'opération de pooling consiste à réduire la taille des images, tout en préservant leurs caractéristiques importantes.\n",
    "- Fully-connected permet de classifier l'image en entrée du réseau : elle renvoie un vecteur de taille N, où N  est le nombre de classes dans notre problème de classification d'image. Pour calculer les probabilités, la couche fully-connected multiplie donc chaque élément en entrée par un poids, fait la somme, puis applique une fonction d'activation (logistique si N=2, softmax si N>2 ) \n",
    "\n"
   ]
  },
  {
   "cell_type": "markdown",
   "id": "8427224a-cacc-4923-b6aa-5d00556dda3c",
   "metadata": {},
   "source": [
    "Ce CNN VGG16 est donc adapté à une classification en 1000 classes. Il va aider à répondre à la problématique (labélisation automatique des images) mais pas directement à la labélisation de nos images dans les 5 catégories que l'on désire : \"inside\", \"outside\", \"food\", \"drink\" et \"menu\". On fera donc du \"transfert learning\" pour l'adapter à notre besoin. Voici ci-dessous quelques prédictions faites par VGG16 :"
   ]
  },
  {
   "cell_type": "markdown",
   "id": "fd8b3d33-8fa3-41b1-9632-53f4e0533ef4",
   "metadata": {},
   "source": [
    "<center><img alt=\"cnn\" src=\"images/photos/CNN/conf1/image1.png\"/></center><br>"
   ]
  },
  {
   "cell_type": "markdown",
   "id": "c6b568f1-3b8f-4e6f-b4f1-ebfbb1c8115b",
   "metadata": {},
   "source": [
    "Prédictions : \n",
    "- Oreille --> 21,8%\n",
    "- Mais --> 21,7%\n",
    "- Couperet --> 20%\n"
   ]
  },
  {
   "cell_type": "markdown",
   "id": "812d520a-e4d1-4b5b-898c-8cdbabb85dfa",
   "metadata": {},
   "source": [
    "<center><img alt=\"cnn\" src=\"images/photos/CNN/conf1/image2.png\"/></center><br>"
   ]
  },
  {
   "cell_type": "markdown",
   "id": "ae877a27-1b45-470c-9831-c07727463924",
   "metadata": {},
   "source": [
    "Prédictions : \n",
    "- Restaurant --> 29%\n",
    "- Planétarium --> 15%\n",
    "- Train --> 12%"
   ]
  },
  {
   "cell_type": "markdown",
   "id": "f2fcd216-4776-40c5-b60f-2c2e24a410af",
   "metadata": {},
   "source": [
    "### <a href=\"Renard_Anthony_2_notebook_022023.ipynb#C632\"> 6.3.2 VGG16 : suppression de la dernière couche - apprentissage non-supervisé <a>"
   ]
  },
  {
   "cell_type": "markdown",
   "id": "40f0c27f-360a-4810-b22c-32da6bdde79a",
   "metadata": {},
   "source": [
    "#### <a href=\"Renard_Anthony_2_notebook_022023.ipynb#C6321\"> 6.3.2.1 Préparation du CNN et lecture des images <a>"
   ]
  },
  {
   "cell_type": "markdown",
   "id": "34af880e-df23-4124-bdc5-94c9e6564951",
   "metadata": {},
   "source": [
    "On va ici faire du \"transfert learning\" en supprimant les dernières couches du modèle VGG16.<br>\n",
    "<center><img alt=\"cnn\" src=\"images/photos/CNN/conf2/vgg16_mod.png\"/></center><br>"
   ]
  },
  {
   "cell_type": "markdown",
   "id": "33aa9158-fe4a-4798-96ce-36d1e5c67e78",
   "metadata": {},
   "source": [
    "Cette opération s'effectue en mettant le paramètre \"include_top\" à FALSE. On a donc chargé VGG-16 pré-entraîné sur ImageNet et sans les couches fully-connected. On va donc récupérer la sortie de la couche \"max_pooling\". Cette sortie nous donnera directement les features (équivalent à la création d'histogramme pour SIFT) après lecture de toutes nos images. "
   ]
  },
  {
   "cell_type": "markdown",
   "id": "987ae6de-9eb1-433a-b5b5-4a9af585e7f7",
   "metadata": {},
   "source": [
    "#### <a href=\"Renard_Anthony_2_notebook_022023.ipynb#C6322\"> 6.3.2.2 Réduction de dimensions <a>"
   ]
  },
  {
   "cell_type": "markdown",
   "id": "8a317e06-0587-4926-82f7-555f10a7edea",
   "metadata": {},
   "source": [
    "A la sortie de la couche \"max pooling\" nous avons un array de dimension : dim = 1000 x 25088. On va donc d'abord faire une PCA en conservant une variance de 99%. On va ainsi réduire notre dimension en privilégiant la conservation de la structure globale du jeu de donnée et ainsi permettre un meilleur temps de traitement du T-SNE. Après PCA la dimension est dim = 1000 x 917. <br>\n",
    "Après PCA, nous faisons une T-SNE qui permet de réduire encore plus notre jeu de donnée mais cette fois ci en mettant en valeur l'aspect local du jeu de donné. Après T-SNE, la dimension est dim= 1000 x 2.<br>\n",
    "Remarque :<br>\n",
    "-La réduction PCA permet de créer des features décorrélées entre elles, et de diminuer leur dimension, tout en gardant un niveau de variance expliquée élevé (99%)<br>\n",
    "-L'impact est une meilleure séparation des données via le T-SNE et une réduction du temps de traitement du T-SNE"
   ]
  },
  {
   "cell_type": "markdown",
   "id": "847c212b-2878-499f-9303-ab96145f06ba",
   "metadata": {},
   "source": [
    "#### 6.3.2.3 résultats "
   ]
  },
  {
   "cell_type": "markdown",
   "id": "6a95ebc3-21b3-44f3-a1f7-5bf68633d964",
   "metadata": {},
   "source": [
    "<center><img alt=\"cnn\" src=\"images/photos/CNN/conf2/resultat_cnn.png\"/></center><br>"
   ]
  },
  {
   "cell_type": "markdown",
   "id": "7fbbbe72-a991-497f-8f65-900e416162ab",
   "metadata": {},
   "source": [
    "Après réduction de dimension, on remarque que les catégories initialement fournies apparaissent principalement segmentées. En utilisant Kmeans (à droite), mon classement est beaucoup plus segmenté. Cependant, le ARI score entre ces 2 classements est faible (36%) mais mieux qu'avec SIFT (15%)"
   ]
  },
  {
   "cell_type": "markdown",
   "id": "351e1741-8719-400e-b7a6-da51cc21a15e",
   "metadata": {},
   "source": [
    "<center><img alt=\"cnn\" src=\"images/photos/CNN/conf2/heatmap.png\"/></center><br>\n",
    "<center><img alt=\"cnn\" src=\"images/photos/CNN/conf2/class_report_cnn.png\"/></center><br>"
   ]
  },
  {
   "cell_type": "markdown",
   "id": "f2edf466-6c0c-4470-ba8c-bd2a78399ffa",
   "metadata": {},
   "source": [
    "La matrice de confusion ci-dessus nous montre la corrélation entre les classes et les clusters. On observe que \"drink\" et \"Menu\" sont les correspondance les plus proches. Au globale on reste sur des scores assez faibles malgré une net amélioration vis à vis du classement fait par SIFT. "
   ]
  },
  {
   "cell_type": "markdown",
   "id": "5fbab760-86db-410f-a0db-3fb41b79d25f",
   "metadata": {},
   "source": [
    "#### 6.3.2.4 Conclusion"
   ]
  },
  {
   "cell_type": "markdown",
   "id": "ac542c1d-75e9-4a2b-8c0f-71436ec8a8ca",
   "metadata": {},
   "source": [
    "On voit ici que séparer les classes de façon non supervisée avec CNN VGG16 est mieux qu'avec SIFT mais l'efficacité reste critiquable. En effet, le réseau n'a pas été entrainé sur notre jeu d'images. On a donc une piste interessante mais on atteint certaines limites pour notre cas. Une solution serait donc d'entrainer notre réseau et lui demander seulement 5 classes. "
   ]
  },
  {
   "cell_type": "markdown",
   "id": "12e47f6e-fdc3-4205-9b63-023ebd8a2b64",
   "metadata": {},
   "source": [
    "### <a href=\"Renard_Anthony_2_notebook_022023.ipynb#C633\"> 6.3.3  VGG16 : apprentissage supervisé - transfert learning <a>"
   ]
  },
  {
   "cell_type": "markdown",
   "id": "ba1c7441-c458-47f0-a8bb-e6181ead4ea7",
   "metadata": {},
   "source": [
    "On va ici enlever les dernières couches du VGG16 comme dans la précédente étape puis je vais intégrer quelques couches qui vont me permettre d'avoir 5 catégories en sortie du réseau de neurones. On va donc garder les premières couches du VGG16 pré-entrainées et l'on va entrainer les dernières couches avec une parties de nos images."
   ]
  },
  {
   "cell_type": "markdown",
   "id": "ee941ec5-a2d9-48e3-89d0-c98f596a8e81",
   "metadata": {},
   "source": [
    "#### <a href=\"Renard_Anthony_2_notebook_022023.ipynb#C6331\"> 6.3.3.1  Configuration des paramètres principaux du modèle <a>"
   ]
  },
  {
   "cell_type": "markdown",
   "id": "36958d4c-61a5-46ff-9470-bac5a761ec67",
   "metadata": {},
   "source": [
    "Cette partie permet de donner les chemins d'accès vers nos images mais aussi de définir quelques paramètres (ex : taille des images, activation de l'entrainement, l'EPOCH...)"
   ]
  },
  {
   "cell_type": "markdown",
   "id": "6e843e70-9c4f-45d3-88cf-b40961866b07",
   "metadata": {},
   "source": [
    "#### <a href=\"Renard_Anthony_2_notebook_022023.ipynb#C6332\"> 6.3.3.2   Création des jeux de test, entrainement et validation <a>"
   ]
  },
  {
   "cell_type": "markdown",
   "id": "85c1e096-faa7-4457-a56c-0644b1a87a63",
   "metadata": {},
   "source": [
    "Nous avons un peu moins de 200 000 photos disponibles dans notre jeu de données. On pourrait utiliser ces 200 000 photos pour réaliser nos 3 sections de données mais le temps de traitement sera extrêmement long. Par conséquent je vais prendre qu'un échantillon de ces photos (sans prendre en compte les 1000 photos choisis dans les études précédentes pour le jeu d'entrainement). Pour le jeu de test, je vais prendre les 1000 photos de notre échantillon utilisé précédemment pour pouvoir comparer les performances entre elles sur le même jeu de données.<br>\n",
    "Prenons un échantillon de 5000 photos pour le jeu d'entrainement et validation et 1000 pour le jeu de test et regardons la performance de notre CNN."
   ]
  },
  {
   "cell_type": "markdown",
   "id": "0d0c54df-a0cd-4985-8b2a-79990bbff299",
   "metadata": {},
   "source": [
    "<center><img alt=\"cnn\" src=\"images/photos/CNN/conf3/split.png\"/></center><br>"
   ]
  },
  {
   "cell_type": "markdown",
   "id": "d480c5c6-a2b2-4eb4-b0b5-ab8d3549efe7",
   "metadata": {},
   "source": [
    "#### <a href=\"Renard_Anthony_2_notebook_022023.ipynb#C6333\"> 6.3.3.3 Préparation du CNN et entrainement <a>"
   ]
  },
  {
   "cell_type": "markdown",
   "id": "d4c38abe-0bb6-43a1-8675-9afe2a34792f",
   "metadata": {},
   "source": [
    "<center><img alt=\"cnn\" src=\"images/photos/CNN/conf3/vgg16_mod.png\"/></center><br>"
   ]
  },
  {
   "cell_type": "markdown",
   "id": "c66ec710-92a0-4b4a-b54a-d591ec2a8400",
   "metadata": {},
   "source": [
    "Après avoir supprimé les dernières couches du VGG16 d'origine, j'ai ajouté les couches suivantes :<br>\n",
    "-Flatten : aplatissement de l'image de sortie en un vecteur<br>\n",
    "-Dropout : régularisation pour éviter l'overfitting<br>\n",
    "-Dense = Fully-Connected + Softmax : ajour de la couche de sortie à 5 neurones pour la prédiction (probabilistique)\n"
   ]
  },
  {
   "cell_type": "markdown",
   "id": "8cf55138-c6cf-42d2-861e-733a3a483b76",
   "metadata": {},
   "source": [
    "La configuration totale du VGG16 modifiée est la suivante :<br>\n",
    "<center><img alt=\"cnn\" src=\"images/photos/CNN/conf3/conf_vgg16_mod.png\"/></center><br>"
   ]
  },
  {
   "cell_type": "markdown",
   "id": "927c16eb-7be2-44f7-9094-312678318045",
   "metadata": {},
   "source": [
    "J'entraine maintenant le VGG16 modifié avec ses nouvelles couches. Voici le résultat : <br>\n",
    "<center><img alt=\"cnn\" src=\"images/photos/CNN/conf3/EPOCH_10_TRAIN_5000_TEST_1000_ECH/results.png\"/></center><br>\n",
    "<center><img alt=\"cnn\" src=\"images/photos/CNN/conf3/EPOCH_10_TRAIN_5000_TEST_1000_ECH/results2.png\"/></center><br>\n",
    "<center><img alt=\"cnn\" src=\"images/photos/CNN/conf3/EPOCH_10_TRAIN_5000_TEST_1000_ECH/curves.png\"/></center><br>"
   ]
  },
  {
   "cell_type": "markdown",
   "id": "ab96b1c3-87a4-4e79-ab7c-e49b18b3beac",
   "metadata": {},
   "source": [
    "Cette approche génère un résultat très intéressant au vu de la valeur de \"accuracy\" et \"loss\".<br>\n",
    "Remarque : test = jeu de validation"
   ]
  },
  {
   "cell_type": "markdown",
   "id": "0782492e-384d-43dc-ab6d-6d70a868a55b",
   "metadata": {},
   "source": [
    "#### <a href=\"Renard_Anthony_2_notebook_022023.ipynb#C6334\"> 6.3.3.4 Prédictions <a>"
   ]
  },
  {
   "cell_type": "markdown",
   "id": "2faa0c3a-ac0a-467f-b15a-6316ca7174a8",
   "metadata": {},
   "source": [
    "Suite à la création du nouveau modèle, j'ai donc effectué la prédiction sur le jeu de test pour constater sa performance. Avant d'observer ces images, nous devons trouver la correspondance suivante :<br>\n",
    "<center><img alt=\"cnn\" src=\"images/photos/CNN/conf3/EPOCH_10_TRAIN_16000_TEST_4000/classes.png\"/></center><br>"
   ]
  },
  {
   "cell_type": "markdown",
   "id": "05768d14-fb04-4b76-bbd1-6897feb9ac2d",
   "metadata": {},
   "source": [
    "Voici maintenant quelques prédictions : "
   ]
  },
  {
   "cell_type": "markdown",
   "id": "80e72c26-3906-4800-bcd9-7af1c2deb412",
   "metadata": {},
   "source": [
    "<center><img alt=\"cnn\" src=\"images/photos/CNN/conf3/EPOCH_10_TRAIN_5000_TEST_1000_ECH/predicts2.png\"/></center><br>"
   ]
  },
  {
   "cell_type": "markdown",
   "id": "5670bf12-c418-473e-8353-f2c148a8ad13",
   "metadata": {},
   "source": [
    "Au global, on voit que le modèle a fait de bonnes prédictions malgré quelques erreurs de temps en temps dû au taux d'erreur mais aussi en pratique, il n'est pas simple de différencier un menu avec une photo de \"food\" dessus. Pour notre cas, le ARI SCORE atteint 45%."
   ]
  },
  {
   "cell_type": "markdown",
   "id": "38e962dc-9831-4021-87d6-aa08ac7f4c69",
   "metadata": {
    "tags": []
   },
   "source": [
    "# 7. Synthèse"
   ]
  },
  {
   "cell_type": "markdown",
   "id": "dd4f1b0c-8fc0-4507-8ad8-d089b6136e98",
   "metadata": {},
   "source": [
    "Dans un premier temps j'ai chargé les données images et textuelles via les éléments disponibles (dataset + image(jpg) + API YELP).<br>\n",
    "Ensuite j'ai exploré les données en analysant le contenu des données (fond et forme) et en les nettoyants (EDA : Exploratory Data Analysis).<br>\n",
    "\n",
    "Concernant les données textuelles, j'ai utilisé 3 méthodes : <br><br>\n",
    "-Méthode 1 : le step by step. Pour cette méthode j'ai effectué différents traitements : création du corpus, passage en minuscule, tokenisation, suppression des stopswords, suppression des mots rares, suppression des mots ayant 3 lettres au plus, conservation des mots 100% alphabétiques, stemming (racinisation) et conservation des mots anglais. Cette méthode est intéressante car elle a permis de relever des \"mots\" reflétant l'insatisfaction des clients.<br>\n",
    "-Méthode 2 : Latent Dirichlet Allocation (LDA) : en prenant en entrée le corpus non traité, le corpus non traité - adverbes et adjectifs et enfin le corpus traité en méthode 1. <br>\n",
    "-Méthode 3 : Non-negative matrix factorization (NMF) en prenant en entrée le corpus non traité, le corpus non traité - adverbes et adjectifs et enfin le corpus traité en méthode 1<br>\n",
    "Les 2 dernières méthodes sont très intéressantes car elles regroupent les mots en clusters. En utilisant le corpus non traité, j'ai relevé 4 sujets d'insatisfactions : la mauvaise communication, le temps d'attente, le mauvais comportement du personnel et la mauvaise cuisine.<br>\n",
    "LDA et NMF sont les 2 méthodes les plus performantes pour offrir une solution à notre problématique. \n",
    "\n",
    "Concernant les données visuelles, j'ai utilisé 4 méthodes : <br><br>\n",
    "-Méthode 1 : Scale-invariant feature transform (SIFT) : méthode très intéressante qui a offert une performance ARI de 15%<br>\n",
    "-Méthode 2 : Convolutional neural network(CNN) VGG16 : cette méthode est intéressante et va servir à nous aider à identifier les labels des photos. Cependant il faudra faire du \"transfert learning\" pour l'adapter à notre problématique.<br>\n",
    "-Méthode 3 : VGG16 en apprentissage non supervisé + transfert learning : cette solution nous offre un ARI-SCORE de 35% soit +de 50% que le SIFT; cependant ce score reste faible.<br>\n",
    "-Méthode 4 : VGG16 en apprentissage supervisé + transfert learning : ici nous allons modifier et entrainer CNN VGG16 (plusieurs configurations testées). Avec cette méthode et pour un jeu d'entrainement de 5000 images, nous avons un accuracy de 89% et un Loss de 0.43. Un test sur l'échantillon de 1000 photos utilisé précédemment nous donne un ARI score = 45%. C'est la méthode la plus performante des 4.<br> Remarque : un jeu d'entrainement de 1000 images donne un accuracy = 79%, loss = 2.34 et ARI SCORE = 0.29. On peut donc pressentir qu'une augmentation du jeu d'entrainement entraine une amélioration de la performance de notre modèle.<br><br>\n",
    "\n",
    "Opportunités :\n",
    "- Pour les données textuelles, on pourrait mettre en place un Recurrent Neural Network (RNN) et constater la performance\n",
    "- Pour les données visuelles, on pourrait tenter d'améliorer la performance de la méthode 4 en augmentant encore le nombre d'échantillons sur le jeu d'entrainement et/ou en augmentant le nombre de couches dans le CNN. On pourrait aussi mettre en place un réseau de neurones personnalisé ou utiliser d’autres modèles existant (ex : VGG19)"
   ]
  },
  {
   "cell_type": "markdown",
   "id": "ce641b85-97a6-4711-bd08-49e6da27252c",
   "metadata": {},
   "source": [
    "# FIN"
   ]
  }
 ],
 "metadata": {
  "extensions": {
   "jupyter_dashboards": {
    "activeView": "grid_default",
    "version": 1,
    "views": {
     "grid_default": {
      "cellMargin": 2,
      "defaultCellHeight": 40,
      "maxColumns": 12,
      "name": "grid",
      "type": "grid"
     }
    }
   }
  },
  "kernelspec": {
   "display_name": "Python 3 (ipykernel)",
   "language": "python",
   "name": "python3"
  },
  "language_info": {
   "codemirror_mode": {
    "name": "ipython",
    "version": 3
   },
   "file_extension": ".py",
   "mimetype": "text/x-python",
   "name": "python",
   "nbconvert_exporter": "python",
   "pygments_lexer": "ipython3",
   "version": "3.10.9"
  }
 },
 "nbformat": 4,
 "nbformat_minor": 5
}
